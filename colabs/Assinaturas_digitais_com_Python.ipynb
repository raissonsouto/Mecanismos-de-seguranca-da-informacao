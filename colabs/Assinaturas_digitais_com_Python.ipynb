{
  "cells": [
    {
      "cell_type": "markdown",
      "metadata": {
        "id": "hGser6APkjh5"
      },
      "source": [
        "# Assinaturas digitais com Python"
      ]
    },
    {
      "cell_type": "markdown",
      "metadata": {
        "id": "IVbxiA80kfdN"
      },
      "source": [
        "No último roteiro aprendemos como cifrar dados usando criptografia assimétrica, isso acontece quando usamos a chave pública para cifrar o dado. Porém, como discutido em sala, existe uma forma de cifrar dados com a chave privada, a isso damos o nome de assinaturas digitais.\n",
        "<br>\n",
        "<br>\n",
        "Elas tem o objetivo de garantir a **integridade de fonte**, ou seja, que o dado foi enviado por quem disse que enviou o dado.\n",
        "<br>\n",
        "<br>\n",
        "Como de costume vamos usar a biblioteca **[cryptography](https://cryptography.io/en/latest/hazmat/primitives/asymmetric/rsa/)**. Também seguiremos as recomendações de algoritmos e tamanho de chave privada(RSA e 2048 bits).\n",
        "<br>\n",
        "<br>\n",
        "Primeiro vamos importar a biblioteca."
      ]
    },
    {
      "cell_type": "code",
      "execution_count": null,
      "metadata": {
        "id": "1NOGDiX06P66"
      },
      "outputs": [],
      "source": [
        "!pip install cryptography"
      ]
    },
    {
      "cell_type": "markdown",
      "metadata": {
        "id": "RqTmp3LVk_GA"
      },
      "source": [
        "Em seguida, vamos importar a chave privada gerada no lab anterior (você pode gerar chaves novas, está parte é apenas para ensinar como utilizar uma chave previamente gerada)."
      ]
    },
    {
      "cell_type": "code",
      "execution_count": null,
      "metadata": {
        "id": "Jr01OPTXk_hp"
      },
      "outputs": [],
      "source": [
        "from cryptography.hazmat.primitives import serialization\n",
        "\n",
        "with open(\"path/to/private_key.pem\", \"rb\") as key_file:\n",
        "\n",
        "    private_key = serialization.load_pem_private_key(\n",
        "        key_file.read(),\n",
        "        password=None\n",
        "    )"
      ]
    },
    {
      "cell_type": "markdown",
      "metadata": {
        "id": "yGUJ0F-ikkF8"
      },
      "source": [
        "## Assinando dados"
      ]
    },
    {
      "cell_type": "markdown",
      "metadata": {
        "id": "ubG_EdsKk9ZT"
      },
      "source": [
        "Com tudo pronto, precisamos chamar o método `.sign(data: bytes, padding: AssymetricPadding, algorithm: HashAlgorithm)` da chave privada."
      ]
    },
    {
      "cell_type": "code",
      "execution_count": null,
      "metadata": {
        "id": "iPIngv01k9IC"
      },
      "outputs": [],
      "source": [
        "from cryptography.hazmat.primitives import hashes\n",
        "from cryptography.hazmat.primitives.asymmetric import padding\n",
        "\n",
        "\n",
        "mensagem = b\"Assinado: Raisson Souto.\"\n",
        "\n",
        "signature = private_key.sign(\n",
        "    mensagem,\n",
        "    padding.PSS(\n",
        "        mgf=padding.MGF1(hashes.SHA256()),\n",
        "        salt_length=padding.PSS.MAX_LENGTH\n",
        "    ),\n",
        "    hashes.SHA256() # O HashAlgorithm também pode ser Prehashed\n",
        "                    # caso o dado já tenha passado por hashing.\n",
        ")\n",
        "\n",
        "print(signature)"
      ]
    },
    {
      "cell_type": "markdown",
      "metadata": {
        "id": "1RJk2RcGkkiR"
      },
      "source": [
        "## Verificando dados"
      ]
    },
    {
      "cell_type": "markdown",
      "metadata": {
        "id": "509BPAvNk6lg"
      },
      "source": [
        "Agora para verificar a assinatura da mensagem, podemos executar o comando:"
      ]
    },
    {
      "cell_type": "code",
      "execution_count": null,
      "metadata": {
        "id": "Q8gxs7s5k699"
      },
      "outputs": [],
      "source": [
        "from cryptography.exceptions import InvalidSignature\n",
        "\n",
        "\n",
        "try:\n",
        "  mensagem_verificada = public_key.verify(\n",
        "    signature, # a assinatura gerada no passo anterior\n",
        "    mensagem, # a mensagem assinada\n",
        "    padding.PSS(\n",
        "        mgf=padding.MGF1(hashes.SHA256()),\n",
        "        salt_length=padding.PSS.MAX_LENGTH\n",
        "    ), # o mesmo padding usado no passo anterior\n",
        "    hashes.SHA256() # o mesmo agoritmo de hashing usado no passo anterior\n",
        "  )\n",
        "  print('assinatura válida')\n",
        "\n",
        "except InvalidSignature:\n",
        "  print('nn é autentico')"
      ]
    },
    {
      "cell_type": "markdown",
      "metadata": {
        "id": "m94bkIM7k2W_"
      },
      "source": [
        "# Atividade"
      ]
    },
    {
      "attachments": {},
      "cell_type": "markdown",
      "metadata": {
        "id": "XMUBRVz9ootk"
      },
      "source": [
        "Para essa entrega, você deverá utilizar o par de chaves gerados na atividade anterior e assinar uma mensagem contendo sua matrícula. Você deve submeter a matrícula e a assinatura [nesse formulário]()."
      ]
    }
  ],
  "metadata": {
    "colab": {
      "provenance": [],
      "toc_visible": true
    },
    "kernelspec": {
      "display_name": "Python 3",
      "name": "python3"
    },
    "language_info": {
      "name": "python"
    }
  },
  "nbformat": 4,
  "nbformat_minor": 0
}
