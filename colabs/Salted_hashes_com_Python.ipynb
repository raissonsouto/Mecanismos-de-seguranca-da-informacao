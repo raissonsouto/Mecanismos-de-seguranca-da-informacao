{
  "cells": [
    {
      "cell_type": "markdown",
      "metadata": {
        "id": "BLy68mornrHZ"
      },
      "source": [
        "# Salted Hashes com Python"
      ]
    },
    {
      "cell_type": "markdown",
      "metadata": {
        "id": "LAFevu5_nyhg"
      },
      "source": [
        "Salted Hashes é um mecanismo de criptografia utilizado entre outras coisas para armazenar senhas de forma segura. Ele consiste em aplicar uma função de hash (uma operação matemática que transforma uma entrada em uma saída de tamanho fixo) em conjunto com um \"sal\" (um valor aleatório adicionado à entrada antes de ser processada pela função de hash) para gerar uma saída única e irreversível.\n",
        "<br>\n",
        "<br>\n",
        "Isso garante que, mesmo que uma base de dados com as senhas criptografadas seja comprometida, os atacantes não serão capazes de utilizar as informações obtidas para descobrir as senhas originais. Além disso, quando falamos de hashing de senhas, não queremos usar um algoritmo com baixo custo computacional para gerar um hash, pois isso tornaria menos custoso um ataque de brute force para descobrir qual a senha se converte naquele hash.\n",
        "<br>\n",
        "<br>\n",
        "Nesse roteiro você aprenderá a aplicar funções de password hashing em Python em Python. Para isso utilizaremos a biblioteca [argon2-cffi](https://argon2-cffi.readthedocs.io/en/stable/). Para instalá-la, basta utilizar o comando:"
      ]
    },
    {
      "cell_type": "code",
      "execution_count": null,
      "metadata": {
        "id": "vCZNDqLhuxoT"
      },
      "outputs": [],
      "source": [
        "!pip install argon2-cffi"
      ]
    },
    {
      "cell_type": "markdown",
      "metadata": {
        "id": "AnBo-_0F8ooV"
      },
      "source": [
        "Com a biblioteca instalada podemos começar a proteger senhas, para isso devemos criar uma instância da classe ```PasswordHasher```. Você pode mexer numa série de parâmetros como visto abaixo, mas se você não mexer nos valores, ele já tem valores padrão.\n",
        "\n",
        "Após isso, basta utilizar o método ```.hash(password)``` e salvar o resultado retornado."
      ]
    },
    {
      "cell_type": "code",
      "execution_count": null,
      "metadata": {
        "id": "QhWvlJZRS6iX"
      },
      "outputs": [],
      "source": [
        "from argon2 import PasswordHasher\n",
        "from argon2.exceptions import HashingError \n",
        "\n",
        "ph = PasswordHasher(\n",
        "    # time_cost: int = 3,           Número de iterações do algoritmo\n",
        "    # memory_cost: int = 65536,     Define o consumo de memória em Kibibytes\n",
        "    # parallelism: int = 4,         Define o números de threads usadas\n",
        "    # hash_len: int = 32,           O tamanho dos hashes que vão ser gerados em bytes\n",
        "    # salt_len: int = 16,           O tamanho do sal que vai ser gerado para cada senha\n",
        "    # encoding: str = 'utf-8',      O encoder usado para ler as strings passadas pelos métodos do objeto posteriormente\n",
        "    # type: Type = Type.ID          A variação do algoritmo (0 = Argon2, 1 = Argon2i e Argon2id = 2)\n",
        ")\n",
        "\n",
        "try:\n",
        "  hash = ph.hash(\"coloque aqui a senha que vai ser protegida\")\n",
        "\n",
        "except HashingError as err:  # Erro lançado caso tenha algum problema em calcular o hash\n",
        "  print(err)\n",
        "\n",
        "print(hash)"
      ]
    },
    {
      "cell_type": "markdown",
      "metadata": {
        "id": "6v-yFRlaTNo_"
      },
      "source": [
        "## Verificando senha"
      ]
    },
    {
      "cell_type": "markdown",
      "metadata": {
        "id": "t1RARqbNTQO6"
      },
      "source": [
        "Agora para verificar, basta utilizar o método ```.verify(hash, password_guess)```."
      ]
    },
    {
      "cell_type": "code",
      "execution_count": null,
      "metadata": {
        "id": "2uIMpYO2TQ63"
      },
      "outputs": [],
      "source": [
        "from argon2.exceptions import VerifyMismatchError, InvalidHash, VerificationError\n",
        "\n",
        "try:\n",
        "  ph.verify(hash, input(\"qual a senha? \"))\n",
        "  print(\"senha correta\")\n",
        "\n",
        "except VerifyMismatchError as err:  # caso a senha esteja errada ele lança uma exceção\n",
        "  print(err)\n",
        "\n",
        "except InvalidHash as err:  # caso o hash passado não esteja do padrão esperado pelo algoritmo\n",
        "  print(err)\n",
        "\n",
        "except VerificationError as err: # verificação falha por outro motivo\n",
        "  print(err)"
      ]
    },
    {
      "cell_type": "markdown",
      "metadata": {
        "id": "o-AqyZBj8lgb"
      },
      "source": [
        "# Atividade"
      ]
    },
    {
      "attachments": {},
      "cell_type": "markdown",
      "metadata": {
        "id": "_UHeAPrX8nu0"
      },
      "source": [
        "Utilizando os valores padrões da biblioteca, faça um código que gera um salted hash da sua mátricula e envie [nesse form]()."
      ]
    }
  ],
  "metadata": {
    "colab": {
      "provenance": []
    },
    "kernelspec": {
      "display_name": "Python 3",
      "name": "python3"
    },
    "language_info": {
      "name": "python"
    }
  },
  "nbformat": 4,
  "nbformat_minor": 0
}
