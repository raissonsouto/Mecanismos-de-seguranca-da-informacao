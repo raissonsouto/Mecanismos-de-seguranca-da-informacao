{
  "cells": [
    {
      "cell_type": "markdown",
      "metadata": {
        "id": "Zcr5UC7t3XGe"
      },
      "source": [
        "# Hashing com Python"
      ]
    },
    {
      "cell_type": "markdown",
      "metadata": {
        "id": "SGgySbVYBNsn"
      },
      "source": [
        "Hashing é um mecanismo de segurança bastante utilizado para garantir a integridade em sistemas. Nesse roteiro você aprenderá a aplicar funções hash em Python.\n",
        "<br>\n",
        "<br>\n",
        "Existem duas bibliotecas amplamente usadas para isso, a [Hashlib](https://docs.python.org/3/library/hashlib.html) e (novamente) a [Cryptography](https://cryptography.io/en/latest/hazmat/primitives/cryptographic-hashes/). Hashlib é uma biblioteca nativa, então não é preciso usar nenhum `pip install ...`, já na cryptography importamos usando:"
      ]
    },
    {
      "cell_type": "code",
      "execution_count": null,
      "metadata": {
        "id": "0YWRv_tLVME9"
      },
      "outputs": [],
      "source": [
        "!pip install cryptography"
      ]
    },
    {
      "cell_type": "markdown",
      "metadata": {
        "id": "n2SQpBaegSaU"
      },
      "source": [
        " Também seguiremos as recomendações de algoritmos do NIST para hashing: `SHA-256`."
      ]
    },
    {
      "cell_type": "markdown",
      "metadata": {
        "id": "6J9WUewW6TJv"
      },
      "source": [
        "## Criando objeto \"sumarizador\""
      ]
    },
    {
      "cell_type": "markdown",
      "metadata": {
        "id": "wg8tb8K553Re"
      },
      "source": [
        "Para digerir algum tipo de dado usando `hashlib`, precisamos antes criar um objeto que receberá os dados para processa-los. Podemos fazer isso de duas formas:"
      ]
    },
    {
      "cell_type": "code",
      "execution_count": null,
      "metadata": {
        "id": "P0nX56BU3lbF"
      },
      "outputs": [],
      "source": [
        "import hashlib\n",
        "\n",
        "message_digestor_1 = hashlib.new('sha256')\n",
        "message_digestor_2 = hashlib.sha256()"
      ]
    },
    {
      "cell_type": "markdown",
      "metadata": {
        "id": "d6p5AA0b-yAT"
      },
      "source": [
        "Utilizando `cryptography` só existe uma forma, mas a lógica não muda muito ..."
      ]
    },
    {
      "cell_type": "code",
      "execution_count": null,
      "metadata": {
        "id": "DAJtJHe0-yfG"
      },
      "outputs": [],
      "source": [
        "from cryptography.hazmat.primitives import hashes\n",
        "\n",
        "message_digestor_3 = hashes.Hash(hashes.SHA256())"
      ]
    },
    {
      "cell_type": "markdown",
      "metadata": {
        "id": "JZQVhazz-nHr"
      },
      "source": [
        "## Adicionando dados no sumarizador"
      ]
    },
    {
      "cell_type": "markdown",
      "metadata": {
        "id": "UJ5y2TG8-nhQ"
      },
      "source": [
        "Para podermos aplicar uma função hash sobre um dado, primeiro precisamos inseri-lo no objeto que acabamos de criar.\n",
        "<br>\n",
        "<br>\n",
        "Em ambas as libs utilizamos o método `.update(data: bytes)` para fazer isso, nela, o digestor concatenará o que já tem dentro dele com o que foi adicionado:"
      ]
    },
    {
      "cell_type": "code",
      "execution_count": null,
      "metadata": {
        "id": "UtXalnZ1-vOl"
      },
      "outputs": [],
      "source": [
        "mensagem_1 = 'sistemas '.encode()\n",
        "mensagem_2 = 'distribuidos'.encode()\n",
        "\n",
        "message_digestor_1.update(mensagem_1)\n",
        "message_digestor_1.update(mensagem_2)\n",
        "\n",
        "# é a mesma coisa que\n",
        "message_digestor_2.update(mensagem_1 + mensagem_2)\n",
        "\n",
        "# em cryptography\n",
        "message_digestor_3. update(mensagem_1 + mensagem_2)"
      ]
    },
    {
      "cell_type": "markdown",
      "metadata": {
        "id": "haE6fZGzPEPR"
      },
      "source": [
        "## Processando/digerindo dados inseridos"
      ]
    },
    {
      "cell_type": "markdown",
      "metadata": {
        "id": "lYN4zRjWROsH"
      },
      "source": [
        "Para gerar o hash, hashlib disponibiliza dois métodos, o `.digest() -> bytes` e o `.hexdigest() -> str`. Você pode continuamente processar um hash e depois continuar a adicionar dados ao buffer."
      ]
    },
    {
      "cell_type": "code",
      "execution_count": null,
      "metadata": {
        "id": "Plm5waEGRPJ1"
      },
      "outputs": [],
      "source": [
        "message_digested = message_digestor_1.digest()\n",
        "message_hexdigested = message_digestor_1.hexdigest()\n",
        "\n",
        "print(f'hash em bytes: {message_digested}')\n",
        "print(f'hash em hexadecimal: {message_hexdigested}')"
      ]
    },
    {
      "cell_type": "markdown",
      "metadata": {
        "id": "0__QNl5gijdf"
      },
      "source": [
        "Em cryptography, ao invés de usarmos o `.digest()` usamos o `.finalize()`. Outra diferença é que após utilizar o finalize, você não poderá utilizar o objeto, ele retornará uma excessão do tipo `AlreadyFinalized`."
      ]
    },
    {
      "cell_type": "code",
      "execution_count": null,
      "metadata": {
        "id": "Jb99yXVNjJkT"
      },
      "outputs": [],
      "source": [
        "c_message_digested = message_digestor_3.finalize()\n",
        "print(c_message_digested)"
      ]
    },
    {
      "cell_type": "markdown",
      "metadata": {
        "id": "TynBke4ojKYV"
      },
      "source": [
        "Mostrando que o hash é igual para entradas iguais em algoritmos iguais."
      ]
    },
    {
      "cell_type": "code",
      "execution_count": null,
      "metadata": {
        "id": "Qk30q-IJiixs"
      },
      "outputs": [],
      "source": [
        "print(message_digestor_1.digest())\n",
        "print(message_digestor_2.digest())\n",
        "print(c_message_digested)\n",
        "\n",
        "print(message_digestor_1.digest() == message_digestor_2.digest() and \\\n",
        "      message_digestor_2.digest() == c_message_digested)"
      ]
    },
    {
      "cell_type": "markdown",
      "metadata": {
        "id": "K7CQ_ySK_vVJ"
      },
      "source": [
        "## Como utilizar os comandos na prática"
      ]
    },
    {
      "cell_type": "code",
      "execution_count": null,
      "metadata": {
        "id": "RscVhf-Z_3vQ"
      },
      "outputs": [],
      "source": [
        "# essa parte é apenas para criar um arquivo sem ter que lidar com o google drive\n",
        "\n",
        "with open('file.txt', 'w') as file:\n",
        "  file.write(\"Esse arquivo é para mostrar um exemplo na cadeira de sistemas distribuídos.\")\n",
        "\n",
        "# aqui começa o exemplo\n",
        "\n",
        "final_digestor = hashlib.sha256()\n",
        "\n",
        "with open('file.txt', 'rb') as file:\n",
        "  chunk = file.read(5) # para ler de 5 em 5 bytes\n",
        "\n",
        "  while chunk:\n",
        "    final_digestor.update(chunk)\n",
        "    chunk = file.read(5)\n",
        "\n",
        "hash = final_digestor.hexdigest()\n",
        "\n",
        "print(hash)"
      ]
    },
    {
      "cell_type": "markdown",
      "metadata": {
        "id": "ESkJNCfS3Xj6"
      },
      "source": [
        "# Atividade"
      ]
    },
    {
      "attachments": {},
      "cell_type": "markdown",
      "metadata": {
        "id": "tmtfddbDBUTf"
      },
      "source": [
        "Crie um script que calcula o hash de um arquivo, calcule o hash de um arquivo que teve seu caminho passado como parâmetro e mande o código, o arquivo e o hash do arquivo [nesse form]()."
      ]
    }
  ],
  "metadata": {
    "colab": {
      "provenance": [],
      "toc_visible": true
    },
    "kernelspec": {
      "display_name": "Python 3",
      "name": "python3"
    },
    "language_info": {
      "name": "python"
    }
  },
  "nbformat": 4,
  "nbformat_minor": 0
}
