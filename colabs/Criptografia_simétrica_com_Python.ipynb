{
  "cells": [
    {
      "cell_type": "markdown",
      "metadata": {
        "id": "_PeyEMDi5SDM"
      },
      "source": [
        "# Criptografia simétrica com Python"
      ]
    },
    {
      "cell_type": "markdown",
      "metadata": {
        "id": "bcM1uV4nWg15"
      },
      "source": [
        "É fundamental o uso bem aplicado de criptografia simétrica para garantir a confidencialidade em sistemas modernos. Com esse roteiro você aprenderá a fazer isso utilizando Python.\n",
        "<br>\n",
        "<br>\n",
        "Para isso, utilizaremos a biblioteca **[cryptography](https://cryptography.io/en/latest/hazmat/primitives/symmetric-encryption/)**, que é a biblioteca mais utilizada para realizar esse tipo de operação. Também seguiremos as recomendações de algoritmos e modos de operação préviamente expostas (AES-128 e CTR)."
      ]
    },
    {
      "cell_type": "markdown",
      "metadata": {
        "id": "_RHtVDlXWVYf"
      },
      "source": [
        "## Conhecendo a biblioteca"
      ]
    },
    {
      "cell_type": "markdown",
      "metadata": {
        "id": "VaPECHIAW0EC"
      },
      "source": [
        "A biblioteca possui várias funcionalidades como criptografia simétrica, criptografia assimétrica, hashing, HMAC, etc. No nosso caso iremos utilizar apenas a criptografia simétrica.\n",
        "<br>\n",
        "<br>\n",
        "Para usar todo esse ferramental, precisamos instalar a biblioteca."
      ]
    },
    {
      "cell_type": "code",
      "execution_count": null,
      "metadata": {
        "id": "MBjV62sov68d"
      },
      "outputs": [],
      "source": [
        "!pip install cryptography"
      ]
    },
    {
      "cell_type": "markdown",
      "metadata": {
        "id": "DcwJrOfqXDAg"
      },
      "source": [
        "## Lidando com chaves"
      ]
    },
    {
      "cell_type": "markdown",
      "metadata": {
        "id": "xlNszQIfvUwG"
      },
      "source": [
        "Antes de começarmos a cifrar alguma coisa, primeiro precisamos entender como gerar chaves para utiliza-las com a biblioteca.\n",
        "<br>\n",
        "<br>\n",
        "Se a chave gerada não for aleatória o suficiente e tiver alguma correlação com ser dependente do tempo, dependente da máquina ou uma palavra do dicionário, por exemplo, ela se torna vulnerável. Para evitar palavras conhecidas, vamos utilizar um gerador aleatório de bytes ao invés de gerá-las manualmente (o que também seria pouco escalável).\n",
        "<br>\n",
        "<br>\n",
        "Existe algumas formas de se gerar chaves aleatórias, por exemplo usando ```random.randbytes(bytes_size: int)``` ou  ```os.urandom(bytes_size: int)```, porém elas não são seguras pois utilizam informações da máquina, como timestamp para gerar os valores.\n",
        "<br>\n",
        "<br>\n",
        "A forma mais aconselhadas de se gerar numeros de forma segura é utilizando a função ```.token_bytes(bytes_size: int)``` da biblioteca ```secrets```. Como vamos utilizar o gerador para obter uma chave secreta para usar no AES-128 e um nonce para o modo de operação counter, precisamos de uma chave secreta de 128 bits e também de um nonce de 128 bits."
      ]
    },
    {
      "cell_type": "code",
      "execution_count": null,
      "metadata": {
        "id": "8TitN1wEvZEC"
      },
      "outputs": [],
      "source": [
        "import secrets\n",
        "\n",
        "# lembraando que 1 byte = 8 bits, então 16 bytes = 128 bits\n",
        "key = secrets.token_bytes(16)\n",
        "nonce = secrets.token_bytes(16)"
      ]
    },
    {
      "cell_type": "markdown",
      "metadata": {
        "id": "qaAXFVmlxYgB"
      },
      "source": [
        "## Configurando o Cipher"
      ]
    },
    {
      "cell_type": "markdown",
      "metadata": {
        "id": "yqzJvj_AxooE"
      },
      "source": [
        "Bem, agora que já temos nossa chave secreta e o nosso nonce, podemos começar a cifrar dados. Para isso, instaciamos um objeto da classe `Cipher` e passamos como parâmetro o algoritmo que será utilizado (AES) e modo de operação (counter).\n",
        "<br>\n",
        "<br>\n",
        "**obs:** A variação do algoritmo (no caso do AES) pode estar explicito ou definido pelo tamanho da chave passada. No nosso caso, definiremos pela chave de 128 bits passada no construtor."
      ]
    },
    {
      "cell_type": "code",
      "execution_count": null,
      "metadata": {
        "id": "vU9KhatLxotf"
      },
      "outputs": [],
      "source": [
        "from cryptography.hazmat.primitives.ciphers import Cipher, algorithms, modes\n",
        "\n",
        "cipher = Cipher(algorithms.AES(key), modes.CTR(nonce))"
      ]
    },
    {
      "cell_type": "markdown",
      "metadata": {
        "id": "d2IdlB4m7b9m"
      },
      "source": [
        "A classe `Cipher` não cifra nem decifra nada, apenas armazena as informações necessárias e retorna duas interfaces, o encryptor e o decryptor. E é com elas que realizamos as operações.\n"
      ]
    },
    {
      "cell_type": "markdown",
      "metadata": {
        "id": "u6iz3_Qrv2a9"
      },
      "source": [
        "## Cifrando uma mensagem"
      ]
    },
    {
      "cell_type": "markdown",
      "metadata": {
        "id": "RSePXTP0wWsL"
      },
      "source": [
        "Para enfim cifrar uma mensagem, precisamos criar uma interface `encryptor` e a partir dela cifrar nossos dados utilizando o método `.update(plain_text: bytes)`, que retorna o texto cifrado. Quando terminarmos de cifrar o que desejamos, devemos chamar `.finalize()` para retornar algum dado que ainda não tenha sido retornado."
      ]
    },
    {
      "cell_type": "code",
      "execution_count": null,
      "metadata": {
        "colab": {
          "base_uri": "https://localhost:8080/"
        },
        "id": "oMWlYAezwWxB",
        "outputId": "f81abac3-874a-4d82-a3f5-86877af76d48"
      },
      "outputs": [],
      "source": [
        "encryptor = cipher.encryptor()\n",
        "\n",
        "texto_plano = \"O segredo do fotografo ainda nao foi revelado.\"\n",
        "cipher_text = encryptor.update(texto_plano.encode()) + encryptor.finalize()\n",
        "\n",
        "print(cipher_text)"
      ]
    },
    {
      "cell_type": "markdown",
      "metadata": {
        "id": "VDxHLz27wW1Q"
      },
      "source": [
        "Uma coisa que deve ser observada é que a API foi montada de forma que facilita o processamento de dados grandes em pedaços menores. Porém cuidado quando for fazer paralelismo aqui, pois existem modos de operação que não suportam cifrar de forma paralela."
      ]
    },
    {
      "cell_type": "code",
      "execution_count": null,
      "metadata": {
        "id": "Yc5o6gTlMKNI"
      },
      "outputs": [],
      "source": [
        "encryptor = cipher.encryptor()\n",
        "ct = b''\n",
        "\n",
        "with open('file.txt', 'w') as file:\n",
        "  file.write(\"Esse arquivo é para mostrar um exemplo na cadeira de sistemas distribuídos.\")\n",
        "\n",
        "with open('file.txt', 'rb') as file:\n",
        "  chunk = file.read(5) # para ler de 5 em 5 bytes\n",
        "\n",
        "  while chunk:\n",
        "    ct += encryptor.update(chunk)\n",
        "    chunk = file.read(5)\n",
        "\n",
        "ct += encryptor.finalize()"
      ]
    },
    {
      "cell_type": "markdown",
      "metadata": {
        "id": "taiStPqk_MZW"
      },
      "source": [
        "**obs:** Padding não é adicionado automaticamente, caso você tenha problema do dado não ser ser um múltiplo do tamanho do bloco, adicione o [padding](https://cryptography.io/en/latest/hazmat/primitives/padding/#cryptography.hazmat.primitives.padding.PKCS7)."
      ]
    },
    {
      "cell_type": "markdown",
      "metadata": {
        "id": "SNAFPfYmwHmY"
      },
      "source": [
        "## Decifrando a mensagem"
      ]
    },
    {
      "cell_type": "markdown",
      "metadata": {
        "id": "DNPdSSNywXip"
      },
      "source": [
        "Decifrar dados usando essa biblioteca é muito semelhante, precisamos criar uma interface `decryptor` e a partir dela cifrar nossos dados utilizando o método `.update(plain_text: bytes)`, que retorna o texto plano. Quando terminarmos de de\n",
        "cifrar o que desejamos, devemos chamar `.finalize()` para retornar algum dado que ainda não tenha sido retornado."
      ]
    },
    {
      "cell_type": "code",
      "execution_count": null,
      "metadata": {
        "colab": {
          "base_uri": "https://localhost:8080/"
        },
        "id": "bGdYjhYswXnR",
        "outputId": "f6daf91e-9eeb-4046-dbf6-fce6a9507788"
      },
      "outputs": [
        {
          "name": "stdout",
          "output_type": "stream",
          "text": [
            "O segredo do fotografo ainda nao foi revelado.\n"
          ]
        }
      ],
      "source": [
        "decryptor = cipher.decryptor()\n",
        "texto = decryptor.update(cipher_text) + decryptor.finalize() # ainda está em bytes\n",
        "\n",
        "print(texto.decode())"
      ]
    },
    {
      "cell_type": "markdown",
      "metadata": {
        "id": "e64LdrZ_wXrC"
      },
      "source": [
        "**obs:** Da mesma forma que partimos o processo de cifrar de um dado grande, podemos fazer o de decifrar."
      ]
    },
    {
      "cell_type": "markdown",
      "metadata": {
        "id": "0VVqdxBcwQMv"
      },
      "source": [
        "# Atividade"
      ]
    },
    {
      "attachments": {},
      "cell_type": "markdown",
      "metadata": {
        "id": "LVQJtvy9wZs6"
      },
      "source": [
        "Para praticar o que foi aprendido, seu objetivo é puxar os dados de um\n",
        "arquivo .csv criptografada, descriptografar, fazer a soma dos números entre colunas, cifrar o resultado e enviar de volta [nesse form](). Você deve fazer isso usando o algoritmo, modo de operação, segredos e o arquivo especificado [aqui]().\n",
        "<br>\n",
        "<br>\n",
        "Você deve retornar a base de dados e o código usado. Você pode utilizar qualquer linguagem que desejar.\n",
        "<br>\n",
        "<br>\n",
        "Boa sorte!\n",
        "<br>\n",
        "<br>\n",
        "*Para versão do colab disponibilizada no GitHub eu removi os links. Posteriormente eu vou gerar a chave, o csv, etc especificamente para essa versão do colab.*"
      ]
    }
  ],
  "metadata": {
    "colab": {
      "provenance": []
    },
    "kernelspec": {
      "display_name": "Python 3",
      "name": "python3"
    },
    "language_info": {
      "name": "python"
    }
  },
  "nbformat": 4,
  "nbformat_minor": 0
}
