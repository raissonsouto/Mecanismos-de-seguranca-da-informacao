{
  "cells": [
    {
      "cell_type": "markdown",
      "metadata": {
        "id": "_RQalGsm2BEW"
      },
      "source": [
        "# Criptografia assimétrica com Python"
      ]
    },
    {
      "cell_type": "markdown",
      "metadata": {
        "id": "SwHhsG551wGy"
      },
      "source": [
        "Esse roteiro foca em uso prático de criptografia assimétrica, um importante mecanismo de segurança para mecanismos de troca de chave como o TLS e mecanismos de autenticação em VPNs.\n",
        "<br>\n",
        "<br>\n",
        "Para isso, utilizaremos a nossa conhecida **[cryptography](https://cryptography.io/en/latest/hazmat/primitives/asymmetric/rsa/)**. Também seguiremos as recomendações de algoritmos e tamanho de chave privada (RSA e 2048 bits).\n",
        "<br>\n",
        "<br>\n",
        "Primeiro vamos importar a biblioteca."
      ]
    },
    {
      "cell_type": "code",
      "execution_count": null,
      "metadata": {
        "id": "1lINAT88fqfM"
      },
      "outputs": [],
      "source": [
        "!pip install cryptography"
      ]
    },
    {
      "cell_type": "markdown",
      "metadata": {
        "id": "X8U6Nffh2Ekr"
      },
      "source": [
        "## Gerando par de chaves"
      ]
    },
    {
      "cell_type": "markdown",
      "metadata": {
        "id": "g08VWTKBzvqZ"
      },
      "source": [
        "Diferente da criptografia simétrica, não geramos a chave por fora e depois aplicamos no algoritmo. Utilizamos mecanismos da própria ferramenta para gerar a chave.\n",
        "<br>\n",
        "<br>\n",
        "Primeiro devemos gerar a chave privada, usando o seguinte comando"
      ]
    },
    {
      "cell_type": "code",
      "execution_count": null,
      "metadata": {
        "id": "mUyG7YXfzxV8"
      },
      "outputs": [],
      "source": [
        "from cryptography.hazmat.primitives.asymmetric import rsa\n",
        "from cryptography.hazmat.primitives import serialization\n",
        "\n",
        "\n",
        "private_key = rsa.generate_private_key(\n",
        "    public_exponent=65537, # número primo grande, no caso, esse é o F4 (número de Fermat)\n",
        "                           # considerado um ponto ótimo entre eficiência e segurança\n",
        "    key_size=2048, # o tamanho da chave privada\n",
        ")\n",
        "\n",
        "# Essa parte é só para mostrar a chave privada de maneira mais legível.\n",
        "# Perceba que o método também é utilizado para formatar arquivos que\n",
        "# podem ser gerados/salvos utilizando a função open('private_key.pem', 'wb')\n",
        "\n",
        "private_key_pem = private_key.private_bytes(\n",
        "    # Formato de arquivo que vai ser convertido\n",
        "    encoding=serialization.Encoding.PEM,\n",
        "    \n",
        "    # Formato de chaves privadas\n",
        "    format=serialization.PrivateFormat.TraditionalOpenSSL,\n",
        "    \n",
        "    # Podemos cifrar a chave privada com uma chave simétrica\n",
        "    encryption_algorithm=serialization.NoEncryption()\n",
        ")\n",
        "\n",
        "print(\"\\n\".join('%s' %line.decode() for line in private_key_pem.splitlines()))"
      ]
    },
    {
      "cell_type": "markdown",
      "metadata": {
        "id": "jjAS5xHAft73"
      },
      "source": [
        "Para derivar a chave pública, basta executar o método `.public_key()` da chave privada."
      ]
    },
    {
      "cell_type": "code",
      "execution_count": null,
      "metadata": {
        "id": "fn0zeE0TfctG"
      },
      "outputs": [],
      "source": [
        "public_key = private_key.public_key()\n",
        "\n",
        "# Essa parte é só para mostrar a chave pública de maneira mais legível\n",
        "public_key_pem = public_key.public_bytes(\n",
        "    # Formato de arquivo que vai ser convertido\n",
        "    encoding=serialization.Encoding.PEM,\n",
        "    \n",
        "    # Formato de chaves públicas (os formatos da chave privada não são\n",
        "    # compatíveis aqui e vice versa)\n",
        "    format=serialization.PublicFormat.SubjectPublicKeyInfo,\n",
        ")\n",
        "\n",
        "print(\"\\n\".join('%s' %line.decode() for line in public_key_pem.splitlines()))"
      ]
    },
    {
      "cell_type": "markdown",
      "metadata": {
        "id": "d6GICv8q2Nix"
      },
      "source": [
        "## Cifrando usando chave pública"
      ]
    },
    {
      "cell_type": "markdown",
      "metadata": {
        "id": "VuMHp-KB0oGY"
      },
      "source": [
        "Agora que temos nosso par de chaves podemos começar a cifrar e descifrar mensagens. Se usarmos o método `.encrypt(mesage: bytes, padding: Padding)`"
      ]
    },
    {
      "cell_type": "code",
      "execution_count": null,
      "metadata": {
        "id": "MWsxfcl20ogN"
      },
      "outputs": [],
      "source": [
        "from cryptography.hazmat.primitives.asymmetric.padding import OAEP, MGF1\n",
        "from cryptography.hazmat.primitives import hashes\n",
        "\n",
        "message = b\"dado que vai ser cifrado\"\n",
        "\n",
        "cipher_text = public_key.encrypt(\n",
        "    message,\n",
        "    # Optimal Asymmetric Encryption Padding\n",
        "    OAEP(\n",
        "        mgf=MGF1(algorithm=hashes.SHA256()), # Uma instância de um mask generation function. \n",
        "        algorithm=hashes.SHA256(), # Algoritmo de hashing utilizado pelo OAEP.\n",
        "        label=None\n",
        "    )\n",
        ")\n",
        "\n",
        "print(cipher_text)"
      ]
    },
    {
      "cell_type": "markdown",
      "metadata": {
        "id": "OTiV6ZQX2UjF"
      },
      "source": [
        "## Descifrar usando chave privada"
      ]
    },
    {
      "cell_type": "markdown",
      "metadata": {
        "id": "sr2wt-Fx02bD"
      },
      "source": [
        "Já aprendemos a cifrar usando a chave pública, agora vamos descifrar usando a chave privada correspondente a chave pública que utilizamos."
      ]
    },
    {
      "cell_type": "code",
      "execution_count": null,
      "metadata": {
        "id": "uV-ItB1x02_l"
      },
      "outputs": [],
      "source": [
        "plaintext = private_key.decrypt(\n",
        "    cipher_text,\n",
        "    OAEP(\n",
        "        mgf=MGF1(algorithm=hashes.SHA256()), # Uma instância de um mask generation function. \n",
        "        algorithm=hashes.SHA256(), # Algoritmo de hashing utilizado pelo OAEP.\n",
        "        label=None\n",
        "    )\n",
        ")\n",
        "\n",
        "print(plaintext)"
      ]
    },
    {
      "cell_type": "markdown",
      "metadata": {
        "id": "pQy_WA3izrcv"
      },
      "source": [
        "# Atividade"
      ]
    },
    {
      "attachments": {},
      "cell_type": "markdown",
      "metadata": {
        "id": "a7DMet6HJDGR"
      },
      "source": [
        "Para este exercício de criptografia, você deve realizar as seguintes etapas:\n",
        "\n",
        "- Gerar um par de chaves (pública e privada) com o tamanho de chave de 2048 bits, utilizando RSA.\n",
        "- Definir uma mensagem para criptografar.\n",
        "- Imprimir a mensagem criptografada utilizando a chave pública gerada anteriormente.\n",
        "- Decifrar a mensagem utilizando a chave privada correspondente.\n",
        "- Imprimir a mensagem original e verificar se ela corresponde à mensagem criptografada anteriormente.\n",
        "- Salvar os arquivos das chaves em um local seguro para uso futuro.\n",
        "\n",
        "Lembre-se de seguir as melhores práticas de segurança de criptografia para garantir a proteção das informações sensíveis."
      ]
    }
  ],
  "metadata": {
    "colab": {
      "provenance": [],
      "toc_visible": true
    },
    "kernelspec": {
      "display_name": "Python 3",
      "name": "python3"
    },
    "language_info": {
      "name": "python"
    }
  },
  "nbformat": 4,
  "nbformat_minor": 0
}
